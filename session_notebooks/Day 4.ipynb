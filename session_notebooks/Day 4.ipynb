{
 "cells": [
  {
   "cell_type": "code",
   "execution_count": 1,
   "id": "59c5ecaf",
   "metadata": {},
   "outputs": [],
   "source": [
    "import pandas as pd\n",
    "import numpy as np\n",
    "import matplotlib.pyplot as plt"
   ]
  },
  {
   "cell_type": "code",
   "execution_count": 2,
   "id": "937f33e4",
   "metadata": {},
   "outputs": [],
   "source": [
    "# Data on the first four elements of the periodic table:\n",
    "elements_data = {\n",
    "    'Element' : ['H', 'He', 'Li', 'Be'],\n",
    "    'Atomic Number' : [ 1, 2, 3, 4 ],\n",
    "    'Mass' : [ 1.008, 4.002, 6.940, 9.012],\n",
    "    'Electronegativity' : [ 2.20, 0.0, 0.98, 1.57 ]\n",
    "}\n",
    "\n",
    "# construct dataframe from data dictionary:\n",
    "df = pd.DataFrame(elements_data)"
   ]
  },
  {
   "cell_type": "code",
   "execution_count": 3,
   "id": "669eabae",
   "metadata": {},
   "outputs": [
    {
     "data": {
      "text/html": [
       "<div>\n",
       "<style scoped>\n",
       "    .dataframe tbody tr th:only-of-type {\n",
       "        vertical-align: middle;\n",
       "    }\n",
       "\n",
       "    .dataframe tbody tr th {\n",
       "        vertical-align: top;\n",
       "    }\n",
       "\n",
       "    .dataframe thead th {\n",
       "        text-align: right;\n",
       "    }\n",
       "</style>\n",
       "<table border=\"1\" class=\"dataframe\">\n",
       "  <thead>\n",
       "    <tr style=\"text-align: right;\">\n",
       "      <th></th>\n",
       "      <th>Element</th>\n",
       "      <th>Atomic Number</th>\n",
       "      <th>Mass</th>\n",
       "      <th>Electronegativity</th>\n",
       "    </tr>\n",
       "  </thead>\n",
       "  <tbody>\n",
       "    <tr>\n",
       "      <th>0</th>\n",
       "      <td>H</td>\n",
       "      <td>1</td>\n",
       "      <td>1.008</td>\n",
       "      <td>2.20</td>\n",
       "    </tr>\n",
       "    <tr>\n",
       "      <th>1</th>\n",
       "      <td>He</td>\n",
       "      <td>2</td>\n",
       "      <td>4.002</td>\n",
       "      <td>0.00</td>\n",
       "    </tr>\n",
       "    <tr>\n",
       "      <th>2</th>\n",
       "      <td>Li</td>\n",
       "      <td>3</td>\n",
       "      <td>6.940</td>\n",
       "      <td>0.98</td>\n",
       "    </tr>\n",
       "    <tr>\n",
       "      <th>3</th>\n",
       "      <td>Be</td>\n",
       "      <td>4</td>\n",
       "      <td>9.012</td>\n",
       "      <td>1.57</td>\n",
       "    </tr>\n",
       "  </tbody>\n",
       "</table>\n",
       "</div>"
      ],
      "text/plain": [
       "  Element  Atomic Number   Mass  Electronegativity\n",
       "0       H              1  1.008               2.20\n",
       "1      He              2  4.002               0.00\n",
       "2      Li              3  6.940               0.98\n",
       "3      Be              4  9.012               1.57"
      ]
     },
     "metadata": {},
     "output_type": "display_data"
    }
   ],
   "source": [
    "display(df)"
   ]
  },
  {
   "cell_type": "code",
   "execution_count": 4,
   "id": "dd7f6871",
   "metadata": {},
   "outputs": [
    {
     "data": {
      "text/html": [
       "<div>\n",
       "<style scoped>\n",
       "    .dataframe tbody tr th:only-of-type {\n",
       "        vertical-align: middle;\n",
       "    }\n",
       "\n",
       "    .dataframe tbody tr th {\n",
       "        vertical-align: top;\n",
       "    }\n",
       "\n",
       "    .dataframe thead th {\n",
       "        text-align: right;\n",
       "    }\n",
       "</style>\n",
       "<table border=\"1\" class=\"dataframe\">\n",
       "  <thead>\n",
       "    <tr style=\"text-align: right;\">\n",
       "      <th></th>\n",
       "      <th>Element</th>\n",
       "      <th>Atomic Number</th>\n",
       "    </tr>\n",
       "  </thead>\n",
       "  <tbody>\n",
       "    <tr>\n",
       "      <th>0</th>\n",
       "      <td>H</td>\n",
       "      <td>1</td>\n",
       "    </tr>\n",
       "    <tr>\n",
       "      <th>1</th>\n",
       "      <td>He</td>\n",
       "      <td>2</td>\n",
       "    </tr>\n",
       "    <tr>\n",
       "      <th>2</th>\n",
       "      <td>Li</td>\n",
       "      <td>3</td>\n",
       "    </tr>\n",
       "    <tr>\n",
       "      <th>3</th>\n",
       "      <td>Be</td>\n",
       "      <td>4</td>\n",
       "    </tr>\n",
       "  </tbody>\n",
       "</table>\n",
       "</div>"
      ],
      "text/plain": [
       "  Element  Atomic Number\n",
       "0       H              1\n",
       "1      He              2\n",
       "2      Li              3\n",
       "3      Be              4"
      ]
     },
     "execution_count": 4,
     "metadata": {},
     "output_type": "execute_result"
    }
   ],
   "source": [
    "df[ ['Element', 'Atomic Number'] ]"
   ]
  },
  {
   "cell_type": "code",
   "execution_count": 5,
   "id": "a963e5be",
   "metadata": {},
   "outputs": [
    {
     "data": {
      "text/plain": [
       "0    1\n",
       "1    2\n",
       "2    3\n",
       "3    4\n",
       "Name: Atomic Number, dtype: int64"
      ]
     },
     "execution_count": 5,
     "metadata": {},
     "output_type": "execute_result"
    }
   ],
   "source": [
    "df.iloc[:,1]"
   ]
  },
  {
   "cell_type": "code",
   "execution_count": 6,
   "id": "a7b17ec5",
   "metadata": {},
   "outputs": [
    {
     "name": "stdout",
     "output_type": "stream",
     "text": [
      "[2.2  0.98 1.57]\n"
     ]
    }
   ],
   "source": [
    "enegs = np.array(df['Electronegativity'])\n",
    "\n",
    "print(enegs[ enegs > 0.0 ])"
   ]
  },
  {
   "cell_type": "code",
   "execution_count": 7,
   "id": "0d067522",
   "metadata": {},
   "outputs": [
    {
     "data": {
      "text/html": [
       "<div>\n",
       "<style scoped>\n",
       "    .dataframe tbody tr th:only-of-type {\n",
       "        vertical-align: middle;\n",
       "    }\n",
       "\n",
       "    .dataframe tbody tr th {\n",
       "        vertical-align: top;\n",
       "    }\n",
       "\n",
       "    .dataframe thead th {\n",
       "        text-align: right;\n",
       "    }\n",
       "</style>\n",
       "<table border=\"1\" class=\"dataframe\">\n",
       "  <thead>\n",
       "    <tr style=\"text-align: right;\">\n",
       "      <th></th>\n",
       "      <th>Element</th>\n",
       "      <th>Atomic Number</th>\n",
       "      <th>Mass</th>\n",
       "      <th>Electronegativity</th>\n",
       "    </tr>\n",
       "  </thead>\n",
       "  <tbody>\n",
       "    <tr>\n",
       "      <th>0</th>\n",
       "      <td>H</td>\n",
       "      <td>1</td>\n",
       "      <td>1.008</td>\n",
       "      <td>2.20</td>\n",
       "    </tr>\n",
       "    <tr>\n",
       "      <th>2</th>\n",
       "      <td>Li</td>\n",
       "      <td>3</td>\n",
       "      <td>6.940</td>\n",
       "      <td>0.98</td>\n",
       "    </tr>\n",
       "    <tr>\n",
       "      <th>3</th>\n",
       "      <td>Be</td>\n",
       "      <td>4</td>\n",
       "      <td>9.012</td>\n",
       "      <td>1.57</td>\n",
       "    </tr>\n",
       "  </tbody>\n",
       "</table>\n",
       "</div>"
      ],
      "text/plain": [
       "  Element  Atomic Number   Mass  Electronegativity\n",
       "0       H              1  1.008               2.20\n",
       "2      Li              3  6.940               0.98\n",
       "3      Be              4  9.012               1.57"
      ]
     },
     "execution_count": 7,
     "metadata": {},
     "output_type": "execute_result"
    }
   ],
   "source": [
    "df[ df['Electronegativity'] > 0 ]"
   ]
  },
  {
   "cell_type": "code",
   "execution_count": 8,
   "id": "7c3a3f69",
   "metadata": {},
   "outputs": [
    {
     "name": "stdout",
     "output_type": "stream",
     "text": [
      "0    False\n",
      "1     True\n",
      "2    False\n",
      "3    False\n",
      "Name: Electronegativity, dtype: bool\n"
     ]
    }
   ],
   "source": [
    "print(df['Electronegativity'] == 0)"
   ]
  },
  {
   "cell_type": "code",
   "execution_count": 9,
   "id": "79a58348",
   "metadata": {},
   "outputs": [
    {
     "data": {
      "text/html": [
       "<div>\n",
       "<style scoped>\n",
       "    .dataframe tbody tr th:only-of-type {\n",
       "        vertical-align: middle;\n",
       "    }\n",
       "\n",
       "    .dataframe tbody tr th {\n",
       "        vertical-align: top;\n",
       "    }\n",
       "\n",
       "    .dataframe thead th {\n",
       "        text-align: right;\n",
       "    }\n",
       "</style>\n",
       "<table border=\"1\" class=\"dataframe\">\n",
       "  <thead>\n",
       "    <tr style=\"text-align: right;\">\n",
       "      <th></th>\n",
       "      <th>Element</th>\n",
       "      <th>Atomic Number</th>\n",
       "      <th>Mass</th>\n",
       "      <th>Electronegativity</th>\n",
       "      <th>Group</th>\n",
       "      <th>Period</th>\n",
       "    </tr>\n",
       "  </thead>\n",
       "  <tbody>\n",
       "    <tr>\n",
       "      <th>0</th>\n",
       "      <td>H</td>\n",
       "      <td>1</td>\n",
       "      <td>1.008</td>\n",
       "      <td>2.20</td>\n",
       "      <td>1</td>\n",
       "      <td>1</td>\n",
       "    </tr>\n",
       "    <tr>\n",
       "      <th>1</th>\n",
       "      <td>He</td>\n",
       "      <td>2</td>\n",
       "      <td>4.002</td>\n",
       "      <td>0.00</td>\n",
       "      <td>18</td>\n",
       "      <td>1</td>\n",
       "    </tr>\n",
       "    <tr>\n",
       "      <th>2</th>\n",
       "      <td>Li</td>\n",
       "      <td>3</td>\n",
       "      <td>6.940</td>\n",
       "      <td>0.98</td>\n",
       "      <td>1</td>\n",
       "      <td>2</td>\n",
       "    </tr>\n",
       "    <tr>\n",
       "      <th>3</th>\n",
       "      <td>Be</td>\n",
       "      <td>4</td>\n",
       "      <td>9.012</td>\n",
       "      <td>1.57</td>\n",
       "      <td>2</td>\n",
       "      <td>2</td>\n",
       "    </tr>\n",
       "  </tbody>\n",
       "</table>\n",
       "</div>"
      ],
      "text/plain": [
       "  Element  Atomic Number   Mass  Electronegativity  Group  Period\n",
       "0       H              1  1.008               2.20      1       1\n",
       "1      He              2  4.002               0.00     18       1\n",
       "2      Li              3  6.940               0.98      1       2\n",
       "3      Be              4  9.012               1.57      2       2"
      ]
     },
     "metadata": {},
     "output_type": "display_data"
    },
    {
     "name": "stdout",
     "output_type": "stream",
     "text": [
      "<class 'pandas.core.frame.DataFrame'>\n"
     ]
    }
   ],
   "source": [
    "# add group and period columns to the dataframe:\n",
    "df['Group'] = [ 1, 18, 1, 2 ]\n",
    "df['Period'] = np.array([ 1, 1, 2, 2 ])\n",
    "\n",
    "display(df)\n",
    "print(type(df))"
   ]
  },
  {
   "cell_type": "code",
   "execution_count": 10,
   "id": "0a8cf808",
   "metadata": {},
   "outputs": [],
   "source": [
    "from scipy.constants import proton_mass, neutron_mass, m_u"
   ]
  },
  {
   "cell_type": "code",
   "execution_count": 11,
   "id": "e8efbdeb",
   "metadata": {},
   "outputs": [],
   "source": [
    "# define an approximation function:\n",
    "def approximate_mass(atomic_number):\n",
    "    \"\"\" Naively approximates atomic mass \"\"\"\n",
    "    return atomic_number * (proton_mass + neutron_mass)/ m_u"
   ]
  },
  {
   "cell_type": "code",
   "execution_count": 12,
   "id": "410a6423",
   "metadata": {},
   "outputs": [
    {
     "data": {
      "text/html": [
       "<div>\n",
       "<style scoped>\n",
       "    .dataframe tbody tr th:only-of-type {\n",
       "        vertical-align: middle;\n",
       "    }\n",
       "\n",
       "    .dataframe tbody tr th {\n",
       "        vertical-align: top;\n",
       "    }\n",
       "\n",
       "    .dataframe thead th {\n",
       "        text-align: right;\n",
       "    }\n",
       "</style>\n",
       "<table border=\"1\" class=\"dataframe\">\n",
       "  <thead>\n",
       "    <tr style=\"text-align: right;\">\n",
       "      <th></th>\n",
       "      <th>Element</th>\n",
       "      <th>Atomic Number</th>\n",
       "      <th>Mass</th>\n",
       "      <th>Electronegativity</th>\n",
       "      <th>Group</th>\n",
       "      <th>Period</th>\n",
       "      <th>Estimated Mass</th>\n",
       "    </tr>\n",
       "  </thead>\n",
       "  <tbody>\n",
       "    <tr>\n",
       "      <th>0</th>\n",
       "      <td>H</td>\n",
       "      <td>1</td>\n",
       "      <td>1.008</td>\n",
       "      <td>2.20</td>\n",
       "      <td>1</td>\n",
       "      <td>1</td>\n",
       "      <td>2.015941</td>\n",
       "    </tr>\n",
       "    <tr>\n",
       "      <th>1</th>\n",
       "      <td>He</td>\n",
       "      <td>2</td>\n",
       "      <td>4.002</td>\n",
       "      <td>0.00</td>\n",
       "      <td>18</td>\n",
       "      <td>1</td>\n",
       "      <td>4.031883</td>\n",
       "    </tr>\n",
       "    <tr>\n",
       "      <th>2</th>\n",
       "      <td>Li</td>\n",
       "      <td>3</td>\n",
       "      <td>6.940</td>\n",
       "      <td>0.98</td>\n",
       "      <td>1</td>\n",
       "      <td>2</td>\n",
       "      <td>6.047824</td>\n",
       "    </tr>\n",
       "    <tr>\n",
       "      <th>3</th>\n",
       "      <td>Be</td>\n",
       "      <td>4</td>\n",
       "      <td>9.012</td>\n",
       "      <td>1.57</td>\n",
       "      <td>2</td>\n",
       "      <td>2</td>\n",
       "      <td>8.063766</td>\n",
       "    </tr>\n",
       "  </tbody>\n",
       "</table>\n",
       "</div>"
      ],
      "text/plain": [
       "  Element  Atomic Number   Mass  Electronegativity  Group  Period  \\\n",
       "0       H              1  1.008               2.20      1       1   \n",
       "1      He              2  4.002               0.00     18       1   \n",
       "2      Li              3  6.940               0.98      1       2   \n",
       "3      Be              4  9.012               1.57      2       2   \n",
       "\n",
       "   Estimated Mass  \n",
       "0        2.015941  \n",
       "1        4.031883  \n",
       "2        6.047824  \n",
       "3        8.063766  "
      ]
     },
     "metadata": {},
     "output_type": "display_data"
    }
   ],
   "source": [
    "# add an \"Estimated Mass\" column to the dataframe:\n",
    "df['Estimated Mass'] = df['Atomic Number'].apply(approximate_mass)\n",
    "\n",
    "display(df)"
   ]
  },
  {
   "cell_type": "code",
   "execution_count": 13,
   "id": "758e3976",
   "metadata": {},
   "outputs": [],
   "source": [
    "df['Atomic number (x2)'] = \\\n",
    "    df[ ['Atomic Number']].apply(lambda x: 2*x)"
   ]
  },
  {
   "cell_type": "code",
   "execution_count": 14,
   "id": "02d79b71",
   "metadata": {},
   "outputs": [
    {
     "data": {
      "text/html": [
       "<div>\n",
       "<style scoped>\n",
       "    .dataframe tbody tr th:only-of-type {\n",
       "        vertical-align: middle;\n",
       "    }\n",
       "\n",
       "    .dataframe tbody tr th {\n",
       "        vertical-align: top;\n",
       "    }\n",
       "\n",
       "    .dataframe thead th {\n",
       "        text-align: right;\n",
       "    }\n",
       "</style>\n",
       "<table border=\"1\" class=\"dataframe\">\n",
       "  <thead>\n",
       "    <tr style=\"text-align: right;\">\n",
       "      <th></th>\n",
       "      <th>Element</th>\n",
       "      <th>Atomic Number</th>\n",
       "      <th>Mass</th>\n",
       "      <th>Electronegativity</th>\n",
       "      <th>Group</th>\n",
       "      <th>Period</th>\n",
       "      <th>Estimated Mass</th>\n",
       "      <th>Atomic number (x2)</th>\n",
       "    </tr>\n",
       "  </thead>\n",
       "  <tbody>\n",
       "    <tr>\n",
       "      <th>0</th>\n",
       "      <td>H</td>\n",
       "      <td>1</td>\n",
       "      <td>1.008</td>\n",
       "      <td>2.20</td>\n",
       "      <td>1</td>\n",
       "      <td>1</td>\n",
       "      <td>2.015941</td>\n",
       "      <td>2</td>\n",
       "    </tr>\n",
       "    <tr>\n",
       "      <th>1</th>\n",
       "      <td>He</td>\n",
       "      <td>2</td>\n",
       "      <td>4.002</td>\n",
       "      <td>0.00</td>\n",
       "      <td>18</td>\n",
       "      <td>1</td>\n",
       "      <td>4.031883</td>\n",
       "      <td>4</td>\n",
       "    </tr>\n",
       "    <tr>\n",
       "      <th>2</th>\n",
       "      <td>Li</td>\n",
       "      <td>3</td>\n",
       "      <td>6.940</td>\n",
       "      <td>0.98</td>\n",
       "      <td>1</td>\n",
       "      <td>2</td>\n",
       "      <td>6.047824</td>\n",
       "      <td>6</td>\n",
       "    </tr>\n",
       "    <tr>\n",
       "      <th>3</th>\n",
       "      <td>Be</td>\n",
       "      <td>4</td>\n",
       "      <td>9.012</td>\n",
       "      <td>1.57</td>\n",
       "      <td>2</td>\n",
       "      <td>2</td>\n",
       "      <td>8.063766</td>\n",
       "      <td>8</td>\n",
       "    </tr>\n",
       "  </tbody>\n",
       "</table>\n",
       "</div>"
      ],
      "text/plain": [
       "  Element  Atomic Number   Mass  Electronegativity  Group  Period  \\\n",
       "0       H              1  1.008               2.20      1       1   \n",
       "1      He              2  4.002               0.00     18       1   \n",
       "2      Li              3  6.940               0.98      1       2   \n",
       "3      Be              4  9.012               1.57      2       2   \n",
       "\n",
       "   Estimated Mass  Atomic number (x2)  \n",
       "0        2.015941                   2  \n",
       "1        4.031883                   4  \n",
       "2        6.047824                   6  \n",
       "3        8.063766                   8  "
      ]
     },
     "execution_count": 14,
     "metadata": {},
     "output_type": "execute_result"
    }
   ],
   "source": [
    "df"
   ]
  },
  {
   "cell_type": "code",
   "execution_count": 15,
   "id": "6913abe6",
   "metadata": {},
   "outputs": [
    {
     "data": {
      "text/html": [
       "<div>\n",
       "<style scoped>\n",
       "    .dataframe tbody tr th:only-of-type {\n",
       "        vertical-align: middle;\n",
       "    }\n",
       "\n",
       "    .dataframe tbody tr th {\n",
       "        vertical-align: top;\n",
       "    }\n",
       "\n",
       "    .dataframe thead th {\n",
       "        text-align: right;\n",
       "    }\n",
       "</style>\n",
       "<table border=\"1\" class=\"dataframe\">\n",
       "  <thead>\n",
       "    <tr style=\"text-align: right;\">\n",
       "      <th></th>\n",
       "      <th>Atomic Number</th>\n",
       "      <th>Mass</th>\n",
       "      <th>Electronegativity</th>\n",
       "      <th>Group</th>\n",
       "      <th>Period</th>\n",
       "      <th>Estimated Mass</th>\n",
       "      <th>Atomic number (x2)</th>\n",
       "    </tr>\n",
       "  </thead>\n",
       "  <tbody>\n",
       "    <tr>\n",
       "      <th>count</th>\n",
       "      <td>4.000000</td>\n",
       "      <td>4.000000</td>\n",
       "      <td>4.000000</td>\n",
       "      <td>4.000000</td>\n",
       "      <td>4.00000</td>\n",
       "      <td>4.000000</td>\n",
       "      <td>4.000000</td>\n",
       "    </tr>\n",
       "    <tr>\n",
       "      <th>mean</th>\n",
       "      <td>2.500000</td>\n",
       "      <td>5.240500</td>\n",
       "      <td>1.187500</td>\n",
       "      <td>5.500000</td>\n",
       "      <td>1.50000</td>\n",
       "      <td>5.039853</td>\n",
       "      <td>5.000000</td>\n",
       "    </tr>\n",
       "    <tr>\n",
       "      <th>std</th>\n",
       "      <td>1.290994</td>\n",
       "      <td>3.490962</td>\n",
       "      <td>0.935356</td>\n",
       "      <td>8.346656</td>\n",
       "      <td>0.57735</td>\n",
       "      <td>2.602569</td>\n",
       "      <td>2.581989</td>\n",
       "    </tr>\n",
       "    <tr>\n",
       "      <th>min</th>\n",
       "      <td>1.000000</td>\n",
       "      <td>1.008000</td>\n",
       "      <td>0.000000</td>\n",
       "      <td>1.000000</td>\n",
       "      <td>1.00000</td>\n",
       "      <td>2.015941</td>\n",
       "      <td>2.000000</td>\n",
       "    </tr>\n",
       "    <tr>\n",
       "      <th>25%</th>\n",
       "      <td>1.750000</td>\n",
       "      <td>3.253500</td>\n",
       "      <td>0.735000</td>\n",
       "      <td>1.000000</td>\n",
       "      <td>1.00000</td>\n",
       "      <td>3.527897</td>\n",
       "      <td>3.500000</td>\n",
       "    </tr>\n",
       "    <tr>\n",
       "      <th>50%</th>\n",
       "      <td>2.500000</td>\n",
       "      <td>5.471000</td>\n",
       "      <td>1.275000</td>\n",
       "      <td>1.500000</td>\n",
       "      <td>1.50000</td>\n",
       "      <td>5.039853</td>\n",
       "      <td>5.000000</td>\n",
       "    </tr>\n",
       "    <tr>\n",
       "      <th>75%</th>\n",
       "      <td>3.250000</td>\n",
       "      <td>7.458000</td>\n",
       "      <td>1.727500</td>\n",
       "      <td>6.000000</td>\n",
       "      <td>2.00000</td>\n",
       "      <td>6.551809</td>\n",
       "      <td>6.500000</td>\n",
       "    </tr>\n",
       "    <tr>\n",
       "      <th>max</th>\n",
       "      <td>4.000000</td>\n",
       "      <td>9.012000</td>\n",
       "      <td>2.200000</td>\n",
       "      <td>18.000000</td>\n",
       "      <td>2.00000</td>\n",
       "      <td>8.063766</td>\n",
       "      <td>8.000000</td>\n",
       "    </tr>\n",
       "  </tbody>\n",
       "</table>\n",
       "</div>"
      ],
      "text/plain": [
       "       Atomic Number      Mass  Electronegativity      Group   Period  \\\n",
       "count       4.000000  4.000000           4.000000   4.000000  4.00000   \n",
       "mean        2.500000  5.240500           1.187500   5.500000  1.50000   \n",
       "std         1.290994  3.490962           0.935356   8.346656  0.57735   \n",
       "min         1.000000  1.008000           0.000000   1.000000  1.00000   \n",
       "25%         1.750000  3.253500           0.735000   1.000000  1.00000   \n",
       "50%         2.500000  5.471000           1.275000   1.500000  1.50000   \n",
       "75%         3.250000  7.458000           1.727500   6.000000  2.00000   \n",
       "max         4.000000  9.012000           2.200000  18.000000  2.00000   \n",
       "\n",
       "       Estimated Mass  Atomic number (x2)  \n",
       "count        4.000000            4.000000  \n",
       "mean         5.039853            5.000000  \n",
       "std          2.602569            2.581989  \n",
       "min          2.015941            2.000000  \n",
       "25%          3.527897            3.500000  \n",
       "50%          5.039853            5.000000  \n",
       "75%          6.551809            6.500000  \n",
       "max          8.063766            8.000000  "
      ]
     },
     "execution_count": 15,
     "metadata": {},
     "output_type": "execute_result"
    }
   ],
   "source": [
    "df.describe()"
   ]
  },
  {
   "cell_type": "code",
   "execution_count": 16,
   "id": "88c51342",
   "metadata": {},
   "outputs": [
    {
     "data": {
      "text/plain": [
       "4"
      ]
     },
     "execution_count": 16,
     "metadata": {},
     "output_type": "execute_result"
    }
   ],
   "source": [
    "df['Electronegativity'].count()"
   ]
  },
  {
   "cell_type": "code",
   "execution_count": 17,
   "id": "b58fb9fc",
   "metadata": {},
   "outputs": [
    {
     "data": {
      "text/html": [
       "<div>\n",
       "<style scoped>\n",
       "    .dataframe tbody tr th:only-of-type {\n",
       "        vertical-align: middle;\n",
       "    }\n",
       "\n",
       "    .dataframe tbody tr th {\n",
       "        vertical-align: top;\n",
       "    }\n",
       "\n",
       "    .dataframe thead th {\n",
       "        text-align: right;\n",
       "    }\n",
       "</style>\n",
       "<table border=\"1\" class=\"dataframe\">\n",
       "  <thead>\n",
       "    <tr style=\"text-align: right;\">\n",
       "      <th></th>\n",
       "      <th>Element</th>\n",
       "      <th>Atomic Number</th>\n",
       "      <th>Mass</th>\n",
       "      <th>Electronegativity</th>\n",
       "      <th>Group</th>\n",
       "      <th>Period</th>\n",
       "      <th>Estimated Mass</th>\n",
       "      <th>Atomic number (x2)</th>\n",
       "    </tr>\n",
       "  </thead>\n",
       "  <tbody>\n",
       "    <tr>\n",
       "      <th>0</th>\n",
       "      <td>H</td>\n",
       "      <td>1</td>\n",
       "      <td>1.008</td>\n",
       "      <td>2.20</td>\n",
       "      <td>1</td>\n",
       "      <td>1</td>\n",
       "      <td>2.015941</td>\n",
       "      <td>2</td>\n",
       "    </tr>\n",
       "    <tr>\n",
       "      <th>1</th>\n",
       "      <td>He</td>\n",
       "      <td>2</td>\n",
       "      <td>4.002</td>\n",
       "      <td>0.00</td>\n",
       "      <td>18</td>\n",
       "      <td>1</td>\n",
       "      <td>4.031883</td>\n",
       "      <td>4</td>\n",
       "    </tr>\n",
       "    <tr>\n",
       "      <th>2</th>\n",
       "      <td>Li</td>\n",
       "      <td>3</td>\n",
       "      <td>6.940</td>\n",
       "      <td>0.98</td>\n",
       "      <td>1</td>\n",
       "      <td>2</td>\n",
       "      <td>6.047824</td>\n",
       "      <td>6</td>\n",
       "    </tr>\n",
       "    <tr>\n",
       "      <th>3</th>\n",
       "      <td>Be</td>\n",
       "      <td>4</td>\n",
       "      <td>9.012</td>\n",
       "      <td>1.57</td>\n",
       "      <td>2</td>\n",
       "      <td>2</td>\n",
       "      <td>8.063766</td>\n",
       "      <td>8</td>\n",
       "    </tr>\n",
       "  </tbody>\n",
       "</table>\n",
       "</div>"
      ],
      "text/plain": [
       "  Element  Atomic Number   Mass  Electronegativity  Group  Period  \\\n",
       "0       H              1  1.008               2.20      1       1   \n",
       "1      He              2  4.002               0.00     18       1   \n",
       "2      Li              3  6.940               0.98      1       2   \n",
       "3      Be              4  9.012               1.57      2       2   \n",
       "\n",
       "   Estimated Mass  Atomic number (x2)  \n",
       "0        2.015941                   2  \n",
       "1        4.031883                   4  \n",
       "2        6.047824                   6  \n",
       "3        8.063766                   8  "
      ]
     },
     "metadata": {},
     "output_type": "display_data"
    }
   ],
   "source": [
    "# export dataframe to CSV file:\n",
    "df.to_csv('elements_data.csv', index=False)\n",
    "\n",
    "# import the exported csv back into a Dataframe:\n",
    "imported_df = pd.read_csv('elements_data.csv')\n",
    "\n",
    "# display imported DataFrame:\n",
    "display(imported_df)"
   ]
  },
  {
   "cell_type": "code",
   "execution_count": 18,
   "id": "c8e2f1ac",
   "metadata": {},
   "outputs": [
    {
     "name": "stdout",
     "output_type": "stream",
     "text": [
      "'Day 0 Notebook.ipynb'\t'Day 2.ipynb'  'Day 4.ipynb'\t    untitled.txt\r\n",
      "'Day 1 Notebook.ipynb'\t'Day 3.ipynb'   elements_data.csv\r\n"
     ]
    }
   ],
   "source": [
    "!ls"
   ]
  },
  {
   "cell_type": "code",
   "execution_count": 19,
   "id": "0d505983",
   "metadata": {},
   "outputs": [
    {
     "data": {
      "image/png": "[encoded data removed]",
      "text/plain": [
       "<Figure size 432x288 with 1 Axes>"
      ]
     },
     "metadata": {
      "needs_background": "light"
     },
     "output_type": "display_data"
    }
   ],
   "source": [
    "data_x = [ 1, 2, 3, 4 ]\n",
    "data_y = [ 5, 2, 3, 9 ]\n",
    "data_u = [ 1, 2, 3, 4 ]\n",
    "data_v = [ 5, 4, 5, 1 ]\n",
    "\n",
    "plt.figure()\n",
    "plt.plot(data_x, data_y, linestyle=':', color='red', \n",
    "             label='2nd year')\n",
    "plt.plot(data_u, data_v, linestyle=':', color='blue', \n",
    "             label='4th year')\n",
    "\n",
    "\n",
    "plt.xlabel('Hours of Sleep')\n",
    "plt.ylabel('Papers not getting published')\n",
    "\n",
    "plt.title('Study of sleepy Grad Students')\n",
    "\n",
    "plt.legend(loc='upper right')\n",
    "\n",
    "plt.show()"
   ]
  },
  {
   "cell_type": "code",
   "execution_count": 20,
   "id": "dfc66ff3",
   "metadata": {},
   "outputs": [
    {
     "data": {
      "image/png": "[encoded data removed]",
      "text/plain": [
       "<Figure size 432x288 with 2 Axes>"
      ]
     },
     "metadata": {
      "needs_background": "light"
     },
     "output_type": "display_data"
    }
   ],
   "source": [
    "import numpy as np\n",
    "\n",
    "# generate a mesh of x and y points:\n",
    "x_pts = np.linspace(-8, 8, 10)\n",
    "y_pts = np.linspace(-8, 8, 10)\n",
    "X, Y = np.meshgrid(x_pts, y_pts)\n",
    "\n",
    "# evaluate Z as a function  of X and Y:\n",
    "Z = np.sin(np.sqrt(X**2 + Y**2)) / np.sqrt(X**2 + Y**2)\n",
    "\n",
    "# display as a high-resolution contour plot:\n",
    "plt.figure()\n",
    "\n",
    "contours = plt.contourf(X, Y, Z, levels=100) # more levels -> higher resoltion\n",
    "plt.xlabel('x')\n",
    "plt.ylabel('y')\n",
    "\n",
    "# generate a colorbar:\n",
    "plt.colorbar(contours, label='z')\n",
    "\n",
    "plt.show()"
   ]
  },
  {
   "cell_type": "code",
   "execution_count": 21,
   "id": "8874dc1a",
   "metadata": {},
   "outputs": [
    {
     "data": {
      "image/png": "[encoded data removed]",
      "text/plain": [
       "<Figure size 432x288 with 1 Axes>"
      ]
     },
     "metadata": {
      "needs_background": "light"
     },
     "output_type": "display_data"
    }
   ],
   "source": [
    "fig = plt.figure()\n",
    "\n",
    "# create 3D axes:\n",
    "ax = plt.subplot(projection='3d')\n",
    "\n",
    "# plot 3D surface (from previous example):\n",
    "ax.plot_surface(X,Y,Z, cmap='viridis')\n",
    "\n",
    "# label axes:\n",
    "ax.set_xlabel('x')\n",
    "ax.set_ylabel('y')\n",
    "ax.set_zlabel('z')\n",
    "\n",
    "plt.show()\n"
   ]
  },
  {
   "cell_type": "code",
   "execution_count": null,
   "id": "9cfd706b",
   "metadata": {},
   "outputs": [
    {
     "data": {
      "application/vnd.jupyter.widget-view+json": {
       "model_id": "3cfb5126c8594fa9b8fd1ec5a56a5fed",
       "version_major": 2,
       "version_minor": 0
      },
      "text/plain": [
       "  0%|          | 0/10000 [00:00<?, ?it/s]"
      ]
     },
     "metadata": {},
     "output_type": "display_data"
    }
   ],
   "source": [
    "from tqdm.notebook import tqdm\n",
    "import time\n",
    "\n",
    "file = ['Stuff']*10000\n",
    "\n",
    "for line in tqdm(file):\n",
    "    time.sleep(1)\n",
    "\n"
   ]
  },
  {
   "cell_type": "code",
   "execution_count": null,
   "id": "374624ef",
   "metadata": {},
   "outputs": [],
   "source": []
  }
 ],
 "metadata": {
  "kernelspec": {
   "display_name": "Python 3 (ipykernel)",
   "language": "python",
   "name": "python3"
  },
  "language_info": {
   "codemirror_mode": {
    "name": "ipython",
    "version": 3
   },
   "file_extension": ".py",
   "mimetype": "text/x-python",
   "name": "python",
   "nbconvert_exporter": "python",
   "pygments_lexer": "ipython3",
   "version": "3.10.6"
  }
 },
 "nbformat": 4,
 "nbformat_minor": 5
}
