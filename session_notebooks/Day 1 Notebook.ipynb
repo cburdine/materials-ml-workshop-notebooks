{
 "cells": [
  {
   "cell_type": "code",
   "execution_count": 3,
   "id": "c8818b82",
   "metadata": {},
   "outputs": [
    {
     "name": "stdout",
     "output_type": "stream",
     "text": [
      "False\n"
     ]
    }
   ],
   "source": [
    "bool_a = True\n",
    "bool_b = False\n",
    "\n",
    "print(bool_a and bool_b)"
   ]
  },
  {
   "cell_type": "code",
   "execution_count": 5,
   "id": "40b71c56",
   "metadata": {},
   "outputs": [
    {
     "data": {
      "text/plain": [
       "3"
      ]
     },
     "execution_count": 5,
     "metadata": {},
     "output_type": "execute_result"
    }
   ],
   "source": []
  },
  {
   "cell_type": "code",
   "execution_count": 7,
   "id": "8ba12df4",
   "metadata": {},
   "outputs": [
    {
     "name": "stdout",
     "output_type": "stream",
     "text": [
      "zero\n"
     ]
    }
   ],
   "source": [
    "value = 0\n",
    "\n",
    "if value < 0:\n",
    "    print('negative')\n",
    "elif value == 0:\n",
    "    print('zero')\n",
    "else:\n",
    "    print('positive')"
   ]
  },
  {
   "cell_type": "code",
   "execution_count": 9,
   "id": "f69ad95c",
   "metadata": {},
   "outputs": [
    {
     "name": "stdout",
     "output_type": "stream",
     "text": [
      "Inorganic\n"
     ]
    }
   ],
   "source": [
    "formula = 'Na'\n",
    "\n",
    "# check if the formula contains C (carbon):\n",
    "if 'C' in formula:\n",
    "    \n",
    "    # check if the formula contains H (hydrogen):\n",
    "    if 'H' in formula:\n",
    "        print('Organic')\n",
    "    else:\n",
    "        print('Carbon-Based')\n",
    "else:\n",
    "    print('Inorganic')"
   ]
  },
  {
   "cell_type": "code",
   "execution_count": null,
   "id": "94ded4eb",
   "metadata": {},
   "outputs": [],
   "source": [
    "# factorial: n(n-1)(n-2)...(2)(1)"
   ]
  },
  {
   "cell_type": "code",
   "execution_count": 10,
   "id": "ac0b6d9a",
   "metadata": {},
   "outputs": [
    {
     "name": "stdout",
     "output_type": "stream",
     "text": [
      "93326215443944152681699238856266700490715968264381621468592963895217599993229915608941463976156518286253697920827223758251185210916864000000000000000000000000\n"
     ]
    }
   ],
   "source": [
    "n = 100\n",
    "\n",
    "product = 1\n",
    "\n",
    "# iterate over i = 1, 2, 3, ...., n-1, n:\n",
    "for i in range(1,n+1):\n",
    "    \n",
    "    # multiply product by i:\n",
    "    product *= i # same as prod = (prod * i)\n",
    "    \n",
    "# print the result:\n",
    "print(product)"
   ]
  },
  {
   "cell_type": "code",
   "execution_count": null,
   "id": "17eac64a",
   "metadata": {},
   "outputs": [],
   "source": []
  }
 ],
 "metadata": {
  "kernelspec": {
   "display_name": "Python 3 (ipykernel)",
   "language": "python",
   "name": "python3"
  },
  "language_info": {
   "codemirror_mode": {
    "name": "ipython",
    "version": 3
   },
   "file_extension": ".py",
   "mimetype": "text/x-python",
   "name": "python",
   "nbconvert_exporter": "python",
   "pygments_lexer": "ipython3",
   "version": "3.10.6"
  }
 },
 "nbformat": 4,
 "nbformat_minor": 5
}
