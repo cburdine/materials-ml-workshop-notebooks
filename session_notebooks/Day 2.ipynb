{
 "cells": [
  {
   "cell_type": "code",
   "execution_count": 1,
   "id": "015663f8",
   "metadata": {},
   "outputs": [],
   "source": [
    "# times each person is available to meet:\n",
    "available_times = [\n",
    "    {1,2,3,4,6,7}, # person 1's availability\n",
    "    {2,4,6},       # person 2's availability\n",
    "    {3,4,5,6,7,8}, # ... etc.\n",
    "    {1,4,6,7,8},\n",
    "]"
   ]
  },
  {
   "cell_type": "code",
   "execution_count": 8,
   "id": "64b576ed",
   "metadata": {
    "scrolled": true
   },
   "outputs": [
    {
     "name": "stdout",
     "output_type": "stream",
     "text": [
      "{1, 2, 3, 4, 6, 7}\n",
      "{2, 4, 6}\n",
      "{4, 6}\n",
      "{4, 6}\n",
      "Final answer:\n",
      " {4, 6}\n"
     ]
    }
   ],
   "source": [
    "# start with the set in the available times:\n",
    "time_intersect = available_times[0]\n",
    "\n",
    "for times in available_times:\n",
    "    time_intersect = \\\n",
    "        time_intersect.intersection(times)\n",
    "    print(time_intersect)\n",
    "\n",
    "print('Final answer:\\n', time_intersect)"
   ]
  },
  {
   "cell_type": "code",
   "execution_count": 15,
   "id": "d684f5ab",
   "metadata": {},
   "outputs": [
    {
     "name": "stdout",
     "output_type": "stream",
     "text": [
      "8 -2\n"
     ]
    }
   ],
   "source": [
    "# create a function to add two numbers:\n",
    "def add_numbers(a,b):\n",
    "    total = a + b\n",
    "    difference = a - b\n",
    "    return total, difference # <-- output of function\n",
    "    \n",
    "x, y = add_numbers(3,5)\n",
    "print(x, y)"
   ]
  },
  {
   "cell_type": "code",
   "execution_count": 17,
   "id": "7cb99ea2",
   "metadata": {},
   "outputs": [
    {
     "name": "stdout",
     "output_type": "stream",
     "text": [
      "(-1-1.4142135623730951j) (-0.9999999999999999+1.4142135623730951j)\n"
     ]
    }
   ],
   "source": [
    "def quadratic(a,b,c):\n",
    "    x_plus = (-b + (b**2 - 4*a*c)**(1/2))/(2*a)\n",
    "    x_minus = (-b - (b**2 - 4*a*c)**(1/2))/(2*a)\n",
    "    \n",
    "    return x_minus, x_plus\n",
    "\n",
    "x1, x2 = quadratic(1,2,3)\n",
    "\n",
    "print(x1, x2)"
   ]
  },
  {
   "cell_type": "code",
   "execution_count": 29,
   "id": "f6e6fe00",
   "metadata": {},
   "outputs": [],
   "source": [
    "class Dog:\n",
    "    \n",
    "    def bark(self):\n",
    "        print(self.name)\n",
    "\n"
   ]
  },
  {
   "cell_type": "code",
   "execution_count": 32,
   "id": "36d1e738",
   "metadata": {},
   "outputs": [],
   "source": [
    "basic_dog = Dog()\n",
    "basic_dog.name = 'Snoopy'"
   ]
  },
  {
   "cell_type": "code",
   "execution_count": 33,
   "id": "6afdc2ca",
   "metadata": {},
   "outputs": [
    {
     "name": "stdout",
     "output_type": "stream",
     "text": [
      "Snoopy\n"
     ]
    }
   ],
   "source": [
    "basic_dog.bark()"
   ]
  },
  {
   "cell_type": "code",
   "execution_count": null,
   "id": "efd05cff",
   "metadata": {},
   "outputs": [],
   "source": []
  },
  {
   "cell_type": "code",
   "execution_count": null,
   "id": "827aa520",
   "metadata": {},
   "outputs": [],
   "source": []
  }
 ],
 "metadata": {
  "kernelspec": {
   "display_name": "Python 3 (ipykernel)",
   "language": "python",
   "name": "python3"
  },
  "language_info": {
   "codemirror_mode": {
    "name": "ipython",
    "version": 3
   },
   "file_extension": ".py",
   "mimetype": "text/x-python",
   "name": "python",
   "nbconvert_exporter": "python",
   "pygments_lexer": "ipython3",
   "version": "3.10.6"
  }
 },
 "nbformat": 4,
 "nbformat_minor": 5
}
